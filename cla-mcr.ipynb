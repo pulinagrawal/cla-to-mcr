{
 "cells": [
  {
   "cell_type": "code",
   "execution_count": 17,
   "metadata": {
    "collapsed": false
   },
   "outputs": [
    {
     "name": "stdout",
     "output_type": "stream",
     "text": [
      "6.28571428571\n",
      "0.392857142857\n",
      "3.0\n"
     ]
    }
   ],
   "source": [
    "theta=1\n",
    "circAngle=44.0/7\n",
    "delTheta=circAngle/(r[1]-r[0]+1)\n",
    "print(circAngle)\n",
    "print(delTheta)\n",
    "print(round(theta/delTheta))"
   ]
  },
  {
   "cell_type": "code",
   "execution_count": null,
   "metadata": {
    "collapsed": true
   },
   "outputs": [],
   "source": [
    ""
   ]
  },
  {
   "cell_type": "code",
   "execution_count": 22,
   "metadata": {
    "collapsed": false
   },
   "outputs": [],
   "source": [
    "import random\n",
    "import csv\n",
    "import sys\n",
    "import copy\n",
    "import math\n",
    "\n",
    "class Vector :\n",
    "        theta=0\n",
    "        mag=0\n",
    "        circAngle=44.0/7\n",
    "\n",
    "        def __init__(self, val, r) :\n",
    "                delTheta=circAngle/(r[1]-r[0]+1)\n",
    "                self.mag=1\n",
    "                self.theta=val*delTheta\n",
    "               \n",
    "        def modValue(self, r) :\n",
    "                delTheta=circAngle/(r[1]-r[0]+1)\n",
    "                return round(self.theta/delTheta)\n",
    "\n",
    "        def setVector(self, val, r) :\n",
    "                delTheta=circAngle/(r[1]-r[0]+1)\n",
    "                self.mag=1\n",
    "                self.theta=val*delTheta\n",
    "\n",
    "        def setVector(self, val, mag, r) :\n",
    "                self.mag=mag\n",
    "                self.theta=val*delTheta\n",
    "\n",
    "        def addVector(self,v) :\n",
    "                R= Vector(0, [0,15])\n",
    "                y=v.mag*math.sin(v.theta)+self.mag*math.sin(self.theta)\n",
    "                x=v.mag*math.cos(v.theta)+self.mag*math.cos(self.theta)\n",
    "                if x==0 :\n",
    "                        if y>0 :\n",
    "                                R.theta=(circAngle/4)\n",
    "                        else :\n",
    "                                R.theta=(circAngle*3/4)\n",
    "                else:\n",
    "                        R.theta=math.atan(abs(y/x))\n",
    "\n",
    "                if y<0 and x>0 :\n",
    "                        R.theta=circAngle-R.theta\n",
    "                elif y<0 and x<0 :\n",
    "                        R.theta=circAngle/2+R.theta\n",
    "                elif y>0 and x<0 :\n",
    "                        R.theta=circAngle/2-R.theta\n",
    "\n",
    "                if x==0 and y==0 :\n",
    "                        #insert the chance logic\n",
    "                        R.theta=self.theta+circAngle/4\n",
    "\n",
    "                R.mag=(y**2+x**2)**0.5\n",
    "                return R"
   ]
  },
  {
   "cell_type": "code",
   "execution_count": 23,
   "metadata": {
    "collapsed": true
   },
   "outputs": [],
   "source": [
    "def generateCLAVector(number,size,sparseness):\n",
    "    sample_vector=[1]*int(sparseness*size)+[0]*(size-int(sparseness*size))\n",
    "    vector=[[1]*int(sparseness*size)+[0]*(size-int(sparseness*size))]*number\n",
    "    for j in range(0,number):\n",
    "        vector[j]=sample_vector[:]\n",
    "        random.shuffle(vector[j])\n",
    "    return vector\n",
    "\n",
    "def sparsify(vector):\n",
    "    sparse_vector=list()\n",
    "    for i in range(0,len(vector)):\n",
    "        if vector[i]==1:\n",
    "            sparse_vector.append(i)\n",
    "    return sparse_vector\n",
    "\n",
    "def generateConversionSet(number,size,r):\n",
    "    #number - number of mcr vectors = dimensions in cla vector\n",
    "    #size - length of each mcr vector = dimensionality of mcr space\n",
    "    conversionSet=list()\n",
    "    for j in range(0,number):\n",
    "        conversionSet.append(list())\n",
    "        for i in range(0,size):\n",
    "            conversionSet[j].append(random.randint(r[0],r[1]))\n",
    "    return conversionSet\n",
    "\n",
    "def multiplyMCR(mcr1,mcr2,r):\n",
    "    mcrR=list()\n",
    "    for i in range(0,len(mcr1)):\n",
    "        mcrR.append((mcr1[i]+mcr2[i])%(r[1]-r[0]+1)) #does not account for ranges with negative integers \n",
    "    return mcrR\n",
    "\n",
    "def inverseMCR(mcr,r):\n",
    "    mcrR=list()\n",
    "    for i in range(0,len(mcr)):\n",
    "            mcrR.append((r[1]+1-mcr[i])%r[1]-r[0]+1)\n",
    "    return mcrR\n",
    "\n",
    "def sumTable(r):\n",
    "        circAngle=2*(22/7)\n",
    "        delTheta=circAngle/(r[1]-r[0]+1)\n",
    "        table=list()\n",
    "        for i in range(0,r[1]-r[0]+1):\n",
    "                table.append(list())\n",
    "                for j in range(0,r[1]-r[0]+1):\n",
    "                    y=math.sin(i*delTheta)+math.sin(j*delTheta)\n",
    "                    x=math.cos(i*delTheta)+math.cos(j*delTheta)\n",
    "                    if x==0 :\n",
    "                            if y>0 :\n",
    "                                table[i].append(circAngle/4)\n",
    "                            else :\n",
    "                                table[i].append(circAngle*3/4)\n",
    "                    else:\n",
    "                            table[i].append(math.atan(y/x))\n",
    "        return table\n",
    "\n",
    "def vSum(a,b,r):\n",
    "        R=0\n",
    "        modular=r[1]-r[0]+1\n",
    "        hMod=modular/2\n",
    "        if a%modular>hMod and b%modular>hMod or a%modular<hMod and b%modular<hMod :\n",
    "                R=(a+b)/2\n",
    "        else :\n",
    "                if a>b :\n",
    "                    c=(modular-(a-b))/2\n",
    "                    R=a+c\n",
    "                else :\n",
    "                    c=(modular-(b-a))/2\n",
    "                    R=b+c\n",
    "        return R\n",
    "\n",
    "def vectorSum(a,table,r,isTrig):\n",
    "        modular=r[1]-r[0]+1\n",
    "        if isTrig==True :\n",
    "            circAngle=2*(22/7)\n",
    "            delTheta=circAngle/(r[1]-r[0]+1)\n",
    "            add=Vector(a[0],r)\n",
    "            for i in range(1,len(a)):\n",
    "                v=Vector(a[i],r)\n",
    "                add=add.addVector(v)\n",
    "        else :\n",
    "            add=a[0]\n",
    "            for i in range(1,len(a)):\n",
    "                add=vSum(add,a[i],r)\n",
    "\n",
    "        return (add.modValue(r))%modular\n",
    "\n",
    "def addMCR(mcrs,r):\n",
    "    mcrR=list()\n",
    "    table=sumTable(r)\n",
    "    for j in range(0,len(mcrs[0])):\n",
    "        mcrR.append(0)\n",
    "        values=[ mcrs[i][j] for i in range(0,len(mcrs)) ]\n",
    "        mcrR[j]= vectorSum(values,table,r,True)\n",
    "    return mcrR\n",
    "\n",
    "\n",
    "def convertCLAtoMCR(vector,conversionSet,r,indexSet):\n",
    "    mcrVector=list()\n",
    "    sp_vector=sparsify(vector)\n",
    "    selConvSet=[ conversionSet[i] for i in sp_vector ]\n",
    "    return addMCR(selConvSet,r)\n",
    "    '''... This was previous implementation\n",
    "        mcrVector=conversionSet[sp_vector[0]]\n",
    "        for i in range(1,len(sp_vector)):\n",
    "            mcrVector=addMCR(mcrVector,conversionSet[sp_vector[i]],r)\n",
    "        return mcrVector\n",
    "    ...'''\n",
    "\n",
    "def distance(vector1,vector2,r):\n",
    "    distance=0\n",
    "    modular=r[1]-r[0]+1\n",
    "    for i in range(0,len(vector1)):\n",
    "        distance+=min((vector1[i]-vector2[i])%modular,(vector2[i]-vector1[i])%modular)\n",
    "    return distance\n",
    "\n",
    "def addNoise(vector,pct):\n",
    "   ones_index=sparsify(vector)\n",
    "   selected=random.sample(ones_index,int(pct*len(ones_index)))\n",
    "   zeroes_index=[ range(0,len(vector))[i] for i in range(0,len(vector)) if i not in ones_index]\n",
    "   selected_zeroes=random.sample(zeroes_index,int(pct*len(ones_index)))\n",
    "   selected.extend(selected_zeroes)\n",
    "   noisy=vector[:]\n",
    "   for i in selected:\n",
    "        noisy[i]^=1 # there are many ways to flip 1->0 and 0->1 like var=not var, var = (0,1)[var], var=1-var\n",
    "   return noisy\n",
    "\n",
    "def analyzeAddition(vectors,r,times):\n",
    "        #TODO add definition\n",
    "        return"
   ]
  },
  {
   "cell_type": "code",
   "execution_count": 27,
   "metadata": {
    "collapsed": true
   },
   "outputs": [],
   "source": [
    "number_of_vectors=100\n",
    "nV=number_of_vectors\n",
    "sparseness=0.02\n",
    "noise=0.0\n",
    "dimension_of_cla_vectors=1024\n",
    "dimension_of_mcr_vectors=1024\n",
    "r=[0,15]\n",
    "mcrV=list()"
   ]
  },
  {
   "cell_type": "code",
   "execution_count": 35,
   "metadata": {
    "collapsed": true
   },
   "outputs": [],
   "source": [
    "nV=number_of_vectors"
   ]
  },
  {
   "cell_type": "code",
   "execution_count": 28,
   "metadata": {
    "collapsed": false
   },
   "outputs": [
    {
     "name": "stdout",
     "output_type": "stream",
     "text": [
      "40\n"
     ]
    }
   ],
   "source": [
    "claV=generateCLAVector(number_of_vectors,dimension_of_cla_vectors,sparseness)\n",
    "print(distance(claV[0],claV[1],[0,1]))"
   ]
  },
  {
   "cell_type": "code",
   "execution_count": 29,
   "metadata": {
    "collapsed": false
   },
   "outputs": [
    {
     "name": "stdout",
     "output_type": "stream",
     "text": [
      "4105.0\n"
     ]
    }
   ],
   "source": [
    "convSet=generateConversionSet(dimension_of_cla_vectors,dimension_of_mcr_vectors,r)\n",
    "idxSet=generateConversionSet(dimension_of_cla_vectors,dimension_of_cla_vectors,r)\n",
    "print (distance(convertCLAtoMCR(claV[0],convSet,r,idxSet),convertCLAtoMCR(claV[1],convSet,r,idxSet),r))"
   ]
  },
  {
   "cell_type": "code",
   "execution_count": 30,
   "metadata": {
    "collapsed": true
   },
   "outputs": [],
   "source": [
    "for i in range(0,number_of_vectors):\n",
    "    mcrV.append(convertCLAtoMCR(claV[i],convSet,r,idxSet))"
   ]
  },
  {
   "cell_type": "code",
   "execution_count": 33,
   "metadata": {
    "collapsed": false
   },
   "outputs": [],
   "source": [
    "import numpy as np"
   ]
  },
  {
   "cell_type": "code",
   "execution_count": 36,
   "metadata": {
    "collapsed": false
   },
   "outputs": [
    {
     "name": "stdout",
     "output_type": "stream",
     "text": [
      "Vectors used=100\n",
      "Average random MCR distance=4095.26646465\n",
      "Average CLA Distance=39.2387878788\n",
      "Average MCR Distance=4042.84323232\n",
      "Average CLA Distance in 0.0 noisy CLA=0.0\n",
      "Average MCR Distance from 0.0 noisy CLA=0.0\n",
      "Standard Deviation random MCR Distance=74.7728135291\n",
      "Standard Deviation CLA Distance=1.23023794424\n",
      "Standard Deviation MCR Distance=109.264158039\n",
      "Standard Deviation CLA Distance in 0.0 noisy CLA=0.0\n",
      "Standard Deviation MCR Distance from 0.0 noisy CLA=0.0\n"
     ]
    }
   ],
   "source": [
    "CLA_dist=list()\n",
    "MCR_dist=list()\n",
    "random_MCR_dist=list()\n",
    "CLA_noisy_dist=list()\n",
    "MCR_noisy_dist=list()\n",
    "\n",
    "avg_CLA_dist=0\n",
    "avg_MCR_dist=0\n",
    "avg_random_MCR_dist=0\n",
    "avg_CLA_noisy_dist=0\n",
    "avg_MCR_noisy_dist=0\n",
    "\n",
    "for i in range(0,number_of_vectors):\n",
    "    for j in range(i+1,number_of_vectors):\n",
    "        CLA_dist.append(distance(claV[i],claV[j],[0,1]))\n",
    "        MCR_dist.append(distance(mcrV[i],mcrV[j],r))\n",
    "        random_MCR_dist.append(distance(convSet[i],convSet[j],r))\n",
    "\n",
    "for i in range(0,number_of_vectors):\n",
    "    noisyV=addNoise(claV[i],noise)\n",
    "    CLA_noisy_dist.append(distance(claV[i],noisyV,[0,1]))\n",
    "    MCR_noisy_dist.append(distance(mcrV[i],convertCLAtoMCR(noisyV,convSet,r,idxSet),r))\n",
    "\n",
    "\n",
    "f = open('dist_datapoints','w')\n",
    "csvwriter=csv.writer(f)\n",
    "csvwriter.writerow(CLA_dist)\n",
    "csvwriter.writerow(MCR_dist)\n",
    "csvwriter.writerow(CLA_noisy_dist)\n",
    "csvwriter.writerow(MCR_noisy_dist)\n",
    "f.close()\n",
    "\n",
    "avg_CLA_dist=np.mean(CLA_dist)\n",
    "avg_MCR_dist=np.mean(MCR_dist)\n",
    "avg_MCR_noisy_dist=np.mean(MCR_noisy_dist)\n",
    "avg_CLA_noisy_dist=np.mean(CLA_noisy_dist)\n",
    "avg_random_MCR_dist=np.mean(random_MCR_dist)\n",
    "\n",
    "print (\"Vectors used=\"+str(nV))\n",
    "print (\"Average random MCR distance=\"+str(avg_random_MCR_dist) ) #average distance between any random MCR vectors\n",
    "print (\"Average CLA Distance=\"+str(avg_CLA_dist) )#average distance of combination of all points(CLA vectors) in CLA space\n",
    "print (\"Average MCR Distance=\"+str(avg_MCR_dist) )#average distance of combination of all points(MCR vectors) in MCR space\n",
    "print (\"Average CLA Distance in \"+str(noise)+\" noisy CLA=\"+str(avg_CLA_noisy_dist) )\n",
    "#average distance between MCR projection of CLA vector and its noisy version\n",
    "print (\"Average MCR Distance from \"+str(noise)+\" noisy CLA=\"+str(avg_MCR_noisy_dist) )\n",
    "#average distance between MCR projection of CLA vector and its noisy version\n",
    "\n",
    "sdv_CLA_dist=np.std(CLA_dist)\n",
    "sdv_MCR_dist=np.std(MCR_dist)\n",
    "sdv_MCR_noisy_dist=np.std(MCR_noisy_dist)\n",
    "sdv_CLA_noisy_dist=np.std(CLA_noisy_dist)\n",
    "sdv_random_MCR_dist=np.std(random_MCR_dist)\n",
    "\n",
    "print (\"Standard Deviation random MCR Distance=\"+str(sdv_random_MCR_dist) )#std dev distance of random MCR vectors\n",
    "print (\"Standard Deviation CLA Distance=\"+str(sdv_CLA_dist) )#std dev distance of combijation of all points(CLA vectors) in CLA space\n",
    "print (\"Standard Deviation MCR Distance=\"+str(sdv_MCR_dist) )#std dev distance of combination of all points(MCR vectors) in MCR space\n",
    "print (\"Standard Deviation CLA Distance in \"+str(noise)+\" noisy CLA=\"+str(sdv_CLA_noisy_dist) )#std dev distance between MCR projection of CLA vector and its noisy version\n",
    "print (\"Standard Deviation MCR Distance from \"+str(noise)+\" noisy CLA=\"+str(sdv_MCR_noisy_dist)) #std dev distance between MCR projection of CLA vector and its noisy version"
   ]
  },
  {
   "cell_type": "code",
   "execution_count": 72,
   "metadata": {
    "collapsed": false
   },
   "outputs": [],
   "source": [
    "def probe(mcrV,probe):\n",
    "    return distance(mcrV,probe,[0,15])<3750"
   ]
  },
  {
   "cell_type": "code",
   "execution_count": 68,
   "metadata": {
    "collapsed": false
   },
   "outputs": [
    {
     "name": "stdout",
     "output_type": "stream",
     "text": [
      "[101 113 200 275 298 319 355 406 430 461 503 516 586 607 704 757 910 946\n",
      " 985 996]\n",
      "[3 4 5 6 7]\n",
      "[1 2 4 5]\n",
      "[4 5]\n",
      "[1 2]\n",
      "[3 6 7]\n",
      "2\n",
      "2\n",
      "3\n",
      "[4 5]\n"
     ]
    }
   ],
   "source": [
    "print(np.array(sparsify(claV[1])))\n",
    "v=np.array([1,2],dtype=int)\n",
    "w=np.array([3,4,5,6,7],dtype=int)\n",
    "v=np.append(v,4)\n",
    "v=np.append(v,5)\n",
    "tp=len(np.intersect1d(w,v))\n",
    "fp=len(np.setdiff1d(v,w))\n",
    "fn=len(np.setdiff1d(w,v))\n",
    "print(w)\n",
    "print(v)\n",
    "print(np.intersect1d(w,v))\n",
    "print(np.setdiff1d(v,w))\n",
    "print(np.setdiff1d(w,v))\n",
    "print(tp)\n",
    "print(fp)\n",
    "print(fn)\n",
    "print(np.intersect1d(w,v))"
   ]
  },
  {
   "cell_type": "code",
   "execution_count": 73,
   "metadata": {
    "collapsed": false
   },
   "outputs": [
    {
     "name": "stdout",
     "output_type": "stream",
     "text": [
      "0\n",
      "1\n",
      "2\n",
      "3\n",
      "4\n",
      "5\n",
      "6\n",
      "7\n",
      "8\n",
      "9\n",
      "10\n",
      "11\n",
      "12\n",
      "13\n",
      "14\n",
      "15\n",
      "16\n",
      "17\n",
      "18\n",
      "19\n",
      "20\n",
      "21\n",
      "22\n",
      "23\n",
      "24\n",
      "25\n",
      "26\n",
      "27\n",
      "28\n",
      "29\n",
      "30\n",
      "31\n",
      "32\n",
      "33\n",
      "34\n",
      "35\n",
      "36\n",
      "37\n",
      "38\n",
      "39\n",
      "40\n",
      "41\n",
      "42\n",
      "43\n",
      "44\n",
      "45\n",
      "46\n",
      "47\n",
      "48\n",
      "49\n",
      "50\n",
      "51\n",
      "52\n",
      "53\n",
      "54\n",
      "55\n",
      "56\n",
      "57\n",
      "58\n",
      "59\n",
      "60\n",
      "61\n",
      "62\n",
      "63\n",
      "64\n",
      "65\n",
      "66\n",
      "67\n",
      "68\n",
      "69\n",
      "70\n",
      "71\n",
      "72\n",
      "73\n",
      "74\n",
      "75\n",
      "76\n",
      "77\n",
      "78\n",
      "79\n",
      "80\n",
      "81\n",
      "82\n",
      "83\n",
      "84\n",
      "85\n",
      "86\n",
      "87\n",
      "88\n",
      "89\n",
      "90\n",
      "91\n",
      "92\n",
      "93\n",
      "94\n",
      "95\n",
      "96\n",
      "97\n",
      "98\n",
      "99\n",
      "Average Precision1.0\n",
      "Average Recall1.0\n",
      "Std Precision0.0\n",
      "Std Recall0.0\n"
     ]
    }
   ],
   "source": [
    "precision=np.array([0.]*number_of_vectors)\n",
    "recall=np.array([0.]*number_of_vectors)\n",
    "for i in range(0,number_of_vectors):\n",
    "    v=np.array([],dtype=int)\n",
    "    for j in range(0,dimension_of_cla_vectors):\n",
    "        if probe(mcrV[i],convSet[j]):\n",
    "            v=np.append(v,j)\n",
    "            \n",
    "    tp=len(np.intersect1d(np.array(sparsify(claV[i])),v))\n",
    "    fp=len(np.setdiff1d(v,np.array(sparsify(claV[i]))))\n",
    "    fn=len(np.setdiff1d(np.array(sparsify(claV[i])),v))\n",
    "    \n",
    "    precision[i]=float(tp)/(tp+fp)\n",
    "    recall[i]=float(tp)/(tp+fn)\n",
    "    print(i)\n",
    "print(\"Average Precision\"+str(np.mean(precision)))\n",
    "print(\"Average Recall\"+str(np.mean(recall)))\n",
    "\n",
    "print(\"Std Precision\"+str(np.std(precision)))\n",
    "print(\"Std Recall\"+str(np.std(recall)))"
   ]
  },
  {
   "cell_type": "raw",
   "metadata": {},
   "source": []
  }
 ],
 "metadata": {
  "kernelspec": {
   "display_name": "Python 2",
   "language": "python",
   "name": "python2"
  },
  "language_info": {
   "codemirror_mode": {
    "name": "ipython",
    "version": 2
   },
   "file_extension": ".py",
   "mimetype": "text/x-python",
   "name": "python",
   "nbconvert_exporter": "python",
   "pygments_lexer": "ipython2",
   "version": "2.7.11"
  }
 },
 "nbformat": 4,
 "nbformat_minor": 0
}
